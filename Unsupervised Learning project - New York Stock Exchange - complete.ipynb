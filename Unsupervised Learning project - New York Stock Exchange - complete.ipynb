{
 "cells": [
  {
   "cell_type": "markdown",
   "metadata": {},
   "source": [
    "# Summary\n",
    "\n",
    "The dataset for this project was collected from [kaggle](https://www.kaggle.com/dgawlik/nyse) and originates from from [Nasdaq Financials](https://www.nasdaq.com/market-activity/stocks/ndaq/financials). fundamentals.csv contains New York Stock Exchange historical metrics extracted from annual SEC 10K fillings (2012-2016), should be enough to derive most of popular fundamental indicators.\n",
    "\n",
    "In this project, we will focus on **clustering**:, Complete-link Agglomerative Clusteringm, K means, and Ward-link Agglomerative Clustering. After applying unsupervised learning techniques to find the best candidate algorithm that accurately predicts whether a company has net profit or net loss.\n",
    "To do that, we will transform **Net Income** column into a binary representation of whether or not a company made profit, where **0** represents **loss** and **1** represents **profit**.\n",
    "\n",
    "Why are we analysing net income?\n",
    "\n",
    "**Net income** indicates a company's profit after all of its expenses have been deducted from revenues. This number appears on a company's income statement and is also an indicator of a company's profitability. I foresee a possible problem with the amount of data on profict vs. loss. \n",
    "\n",
    "Possible issues with this project:\n",
    "\n",
    "Profits are always easier to find than profit loss, which might skew the final analysis.\n",
    "\n",
    "\n",
    "I hypothesize that some of the clustering techniques will be better than otheres at predicting profits and a different one for losses. Most likely no one clustering technique will achieve prediction of both profits and losses together. \n",
    "\n",
    "\n",
    "# Exploratory Data Analysis\n",
    "In this phase, we are going to analyze the data set and find out their main characteristics. We are using the ticker symbols for two companies, AAL and APP to find out important information regarding profits, losses, expenditures, etc. After we gather this data we can select only the information needed to continue the predictive model and start clustering. There of course is a lot of extraneous data we don't and will snip out later. Any coiumns with missing values will have to be removed. Afterwards, the data will need to scaled and normalized."
   ]
  },
  {
   "cell_type": "code",
   "execution_count": null,
   "metadata": {},
   "outputs": [],
   "source": [
    "plt.figure(figsize = (15, 3))\n",
    "dt = data.sort_values(by = 'Net Income', ascending=False).head(50)\n",
    "sns.set_context(\"notebook\")\n",
    "\n",
    "sns.barplot(x = dt['Ticker Symbol'], y =data['Net Income'], palette=(\"spring\"), ci=None)"
   ]
  },
  {
   "cell_type": "code",
   "execution_count": 1,
   "metadata": {},
   "outputs": [],
   "source": [
    "import pandas as pd\n",
    "import numpy as np\n",
    "import seaborn as sns\n",
    "import matplotlib.pyplot as plt\n",
    "from sklearn.preprocessing import StandardScaler\n",
    "from sklearn.cluster import AgglomerativeClustering\n",
    "from sklearn.cluster import KMeans\n",
    "from scipy.cluster import hierarchy\n",
    "\n",
    "# Mute the sklearn and IPython warnings\n",
    "import warnings\n",
    "warnings.filterwarnings('ignore', module='sklearn')\n",
    "pd.options.display.float_format = '{:.2f}'.format"
   ]
  },
  {
   "cell_type": "code",
   "execution_count": 2,
   "metadata": {},
   "outputs": [
    {
     "data": {
      "text/html": [
       "<div>\n",
       "<style scoped>\n",
       "    .dataframe tbody tr th:only-of-type {\n",
       "        vertical-align: middle;\n",
       "    }\n",
       "\n",
       "    .dataframe tbody tr th {\n",
       "        vertical-align: top;\n",
       "    }\n",
       "\n",
       "    .dataframe thead th {\n",
       "        text-align: right;\n",
       "    }\n",
       "</style>\n",
       "<table border=\"1\" class=\"dataframe\">\n",
       "  <thead>\n",
       "    <tr style=\"text-align: right;\">\n",
       "      <th></th>\n",
       "      <th>Unnamed: 0</th>\n",
       "      <th>Ticker Symbol</th>\n",
       "      <th>Period Ending</th>\n",
       "      <th>Accounts Payable</th>\n",
       "      <th>Accounts Receivable</th>\n",
       "      <th>Add'l income/expense items</th>\n",
       "      <th>After Tax ROE</th>\n",
       "      <th>Capital Expenditures</th>\n",
       "      <th>Capital Surplus</th>\n",
       "      <th>Cash Ratio</th>\n",
       "      <th>...</th>\n",
       "      <th>Total Current Assets</th>\n",
       "      <th>Total Current Liabilities</th>\n",
       "      <th>Total Equity</th>\n",
       "      <th>Total Liabilities</th>\n",
       "      <th>Total Liabilities &amp; Equity</th>\n",
       "      <th>Total Revenue</th>\n",
       "      <th>Treasury Stock</th>\n",
       "      <th>For Year</th>\n",
       "      <th>Earnings Per Share</th>\n",
       "      <th>Estimated Shares Outstanding</th>\n",
       "    </tr>\n",
       "  </thead>\n",
       "  <tbody>\n",
       "    <tr>\n",
       "      <th>0</th>\n",
       "      <td>0</td>\n",
       "      <td>AAL</td>\n",
       "      <td>2012-12-31</td>\n",
       "      <td>3068000000.00</td>\n",
       "      <td>-222000000.00</td>\n",
       "      <td>-1961000000.00</td>\n",
       "      <td>23.00</td>\n",
       "      <td>-1888000000.00</td>\n",
       "      <td>4695000000.00</td>\n",
       "      <td>53.00</td>\n",
       "      <td>...</td>\n",
       "      <td>7072000000.00</td>\n",
       "      <td>9011000000.00</td>\n",
       "      <td>-7987000000.00</td>\n",
       "      <td>24891000000.00</td>\n",
       "      <td>16904000000.00</td>\n",
       "      <td>24855000000.00</td>\n",
       "      <td>-367000000.00</td>\n",
       "      <td>2012.00</td>\n",
       "      <td>-5.60</td>\n",
       "      <td>335000000.00</td>\n",
       "    </tr>\n",
       "    <tr>\n",
       "      <th>1</th>\n",
       "      <td>1</td>\n",
       "      <td>AAL</td>\n",
       "      <td>2013-12-31</td>\n",
       "      <td>4975000000.00</td>\n",
       "      <td>-93000000.00</td>\n",
       "      <td>-2723000000.00</td>\n",
       "      <td>67.00</td>\n",
       "      <td>-3114000000.00</td>\n",
       "      <td>10592000000.00</td>\n",
       "      <td>75.00</td>\n",
       "      <td>...</td>\n",
       "      <td>14323000000.00</td>\n",
       "      <td>13806000000.00</td>\n",
       "      <td>-2731000000.00</td>\n",
       "      <td>45009000000.00</td>\n",
       "      <td>42278000000.00</td>\n",
       "      <td>26743000000.00</td>\n",
       "      <td>0.00</td>\n",
       "      <td>2013.00</td>\n",
       "      <td>-11.25</td>\n",
       "      <td>163022222.22</td>\n",
       "    </tr>\n",
       "    <tr>\n",
       "      <th>2</th>\n",
       "      <td>2</td>\n",
       "      <td>AAL</td>\n",
       "      <td>2014-12-31</td>\n",
       "      <td>4668000000.00</td>\n",
       "      <td>-160000000.00</td>\n",
       "      <td>-150000000.00</td>\n",
       "      <td>143.00</td>\n",
       "      <td>-5311000000.00</td>\n",
       "      <td>15135000000.00</td>\n",
       "      <td>60.00</td>\n",
       "      <td>...</td>\n",
       "      <td>11750000000.00</td>\n",
       "      <td>13404000000.00</td>\n",
       "      <td>2021000000.00</td>\n",
       "      <td>41204000000.00</td>\n",
       "      <td>43225000000.00</td>\n",
       "      <td>42650000000.00</td>\n",
       "      <td>0.00</td>\n",
       "      <td>2014.00</td>\n",
       "      <td>4.02</td>\n",
       "      <td>716915422.89</td>\n",
       "    </tr>\n",
       "    <tr>\n",
       "      <th>3</th>\n",
       "      <td>3</td>\n",
       "      <td>AAL</td>\n",
       "      <td>2015-12-31</td>\n",
       "      <td>5102000000.00</td>\n",
       "      <td>352000000.00</td>\n",
       "      <td>-708000000.00</td>\n",
       "      <td>135.00</td>\n",
       "      <td>-6151000000.00</td>\n",
       "      <td>11591000000.00</td>\n",
       "      <td>51.00</td>\n",
       "      <td>...</td>\n",
       "      <td>9985000000.00</td>\n",
       "      <td>13605000000.00</td>\n",
       "      <td>5635000000.00</td>\n",
       "      <td>42780000000.00</td>\n",
       "      <td>48415000000.00</td>\n",
       "      <td>40990000000.00</td>\n",
       "      <td>0.00</td>\n",
       "      <td>2015.00</td>\n",
       "      <td>11.39</td>\n",
       "      <td>668129938.54</td>\n",
       "    </tr>\n",
       "    <tr>\n",
       "      <th>4</th>\n",
       "      <td>4</td>\n",
       "      <td>AAP</td>\n",
       "      <td>2012-12-29</td>\n",
       "      <td>2409453000.00</td>\n",
       "      <td>-89482000.00</td>\n",
       "      <td>600000.00</td>\n",
       "      <td>32.00</td>\n",
       "      <td>-271182000.00</td>\n",
       "      <td>520215000.00</td>\n",
       "      <td>23.00</td>\n",
       "      <td>...</td>\n",
       "      <td>3184200000.00</td>\n",
       "      <td>2559638000.00</td>\n",
       "      <td>1210694000.00</td>\n",
       "      <td>3403120000.00</td>\n",
       "      <td>4613814000.00</td>\n",
       "      <td>6205003000.00</td>\n",
       "      <td>-27095000.00</td>\n",
       "      <td>2012.00</td>\n",
       "      <td>5.29</td>\n",
       "      <td>73283553.88</td>\n",
       "    </tr>\n",
       "  </tbody>\n",
       "</table>\n",
       "<p>5 rows × 79 columns</p>\n",
       "</div>"
      ],
      "text/plain": [
       "   Unnamed: 0 Ticker Symbol Period Ending  Accounts Payable  \\\n",
       "0           0           AAL    2012-12-31     3068000000.00   \n",
       "1           1           AAL    2013-12-31     4975000000.00   \n",
       "2           2           AAL    2014-12-31     4668000000.00   \n",
       "3           3           AAL    2015-12-31     5102000000.00   \n",
       "4           4           AAP    2012-12-29     2409453000.00   \n",
       "\n",
       "   Accounts Receivable  Add'l income/expense items  After Tax ROE  \\\n",
       "0        -222000000.00              -1961000000.00          23.00   \n",
       "1         -93000000.00              -2723000000.00          67.00   \n",
       "2        -160000000.00               -150000000.00         143.00   \n",
       "3         352000000.00               -708000000.00         135.00   \n",
       "4         -89482000.00                   600000.00          32.00   \n",
       "\n",
       "   Capital Expenditures  Capital Surplus  Cash Ratio  ...  \\\n",
       "0        -1888000000.00    4695000000.00       53.00  ...   \n",
       "1        -3114000000.00   10592000000.00       75.00  ...   \n",
       "2        -5311000000.00   15135000000.00       60.00  ...   \n",
       "3        -6151000000.00   11591000000.00       51.00  ...   \n",
       "4         -271182000.00     520215000.00       23.00  ...   \n",
       "\n",
       "   Total Current Assets  Total Current Liabilities   Total Equity  \\\n",
       "0         7072000000.00              9011000000.00 -7987000000.00   \n",
       "1        14323000000.00             13806000000.00 -2731000000.00   \n",
       "2        11750000000.00             13404000000.00  2021000000.00   \n",
       "3         9985000000.00             13605000000.00  5635000000.00   \n",
       "4         3184200000.00              2559638000.00  1210694000.00   \n",
       "\n",
       "   Total Liabilities  Total Liabilities & Equity  Total Revenue  \\\n",
       "0     24891000000.00              16904000000.00 24855000000.00   \n",
       "1     45009000000.00              42278000000.00 26743000000.00   \n",
       "2     41204000000.00              43225000000.00 42650000000.00   \n",
       "3     42780000000.00              48415000000.00 40990000000.00   \n",
       "4      3403120000.00               4613814000.00  6205003000.00   \n",
       "\n",
       "   Treasury Stock  For Year  Earnings Per Share  Estimated Shares Outstanding  \n",
       "0   -367000000.00   2012.00               -5.60                  335000000.00  \n",
       "1            0.00   2013.00              -11.25                  163022222.22  \n",
       "2            0.00   2014.00                4.02                  716915422.89  \n",
       "3            0.00   2015.00               11.39                  668129938.54  \n",
       "4    -27095000.00   2012.00                5.29                   73283553.88  \n",
       "\n",
       "[5 rows x 79 columns]"
      ]
     },
     "execution_count": 2,
     "metadata": {},
     "output_type": "execute_result"
    }
   ],
   "source": [
    "data = pd.DataFrame(pd.read_csv('./fundamentals.csv', sep=','))\n",
    "data.head()"
   ]
  },
  {
   "cell_type": "code",
   "execution_count": 3,
   "metadata": {},
   "outputs": [
    {
     "data": {
      "text/plain": [
       "Unnamed: 0                        0\n",
       "Ticker Symbol                     0\n",
       "Period Ending                     0\n",
       "Accounts Payable                  0\n",
       "Accounts Receivable               0\n",
       "                               ... \n",
       "Total Revenue                     0\n",
       "Treasury Stock                    0\n",
       "For Year                        173\n",
       "Earnings Per Share              219\n",
       "Estimated Shares Outstanding    219\n",
       "Length: 79, dtype: int64"
      ]
     },
     "execution_count": 3,
     "metadata": {},
     "output_type": "execute_result"
    }
   ],
   "source": [
    "data.isnull().sum()"
   ]
  },
  {
   "cell_type": "code",
   "execution_count": 4,
   "metadata": {},
   "outputs": [
    {
     "data": {
      "text/plain": [
       "<AxesSubplot:xlabel='Ticker Symbol', ylabel='Net Income'>"
      ]
     },
     "execution_count": 4,
     "metadata": {},
     "output_type": "execute_result"
    },
    {
     "data": {
      "image/png": "[encoded data removed]",
      "text/plain": [
       "<Figure size 1080x216 with 1 Axes>"
      ]
     },
     "metadata": {
      "needs_background": "light"
     },
     "output_type": "display_data"
    }
   ],
   "source": [
    "plt.figure(figsize = (15, 3))\n",
    "dt = data.sort_values(by = 'Net Income', ascending=False).head(50)\n",
    "sns.set_context(\"notebook\")\n",
    "\n",
    "sns.barplot(x = dt['Ticker Symbol'], y =data['Net Income'], palette=(\"spring\"), ci=None)"
   ]
  },
  {
   "cell_type": "markdown",
   "metadata": {},
   "source": [
    "# Feature Transformation\n",
    "\n",
    "- Drop **Unnamed: 0**, **Ticker Symbol** and **Period Ending** column as they don't carry any information.\n",
    "- Drop columns with missing values.\n",
    "- Make sure all the columns are continuous which is what we need for K-means clustering.\n",
    "- Transform **Net Income** into a binary column\n",
    "- Ensure the data is scaled and normally distributed"
   ]
  },
  {
   "cell_type": "code",
   "execution_count": 5,
   "metadata": {},
   "outputs": [],
   "source": [
    "data.drop(['Unnamed: 0', 'Ticker Symbol', 'Period Ending'],axis = 1, inplace=True)\n",
    "data.dropna(axis=1,inplace=True)"
   ]
  },
  {
   "cell_type": "code",
   "execution_count": 6,
   "metadata": {},
   "outputs": [
    {
     "data": {
      "text/plain": [
       "True"
      ]
     },
     "execution_count": 6,
     "metadata": {},
     "output_type": "execute_result"
    }
   ],
   "source": [
    "data.isnull().sum().all() == 0"
   ]
  },
  {
   "cell_type": "code",
   "execution_count": 7,
   "metadata": {},
   "outputs": [
    {
     "data": {
      "text/plain": [
       "True"
      ]
     },
     "execution_count": 7,
     "metadata": {},
     "output_type": "execute_result"
    }
   ],
   "source": [
    "data.dtypes.all() == 'float64' # all floats except Ticker Symbol"
   ]
  },
  {
   "cell_type": "code",
   "execution_count": 8,
   "metadata": {},
   "outputs": [],
   "source": [
    "data['Net Income'] = data['Net Income'].apply(lambda x : 1 if x > 0 else 0)"
   ]
  },
  {
   "cell_type": "code",
   "execution_count": 9,
   "metadata": {},
   "outputs": [
    {
     "data": {
      "text/plain": [
       "1    1679\n",
       "0     102\n",
       "Name: Net Income, dtype: int64"
      ]
     },
     "execution_count": 9,
     "metadata": {},
     "output_type": "execute_result"
    }
   ],
   "source": [
    "data['Net Income'].value_counts()"
   ]
  },
  {
   "cell_type": "code",
   "execution_count": 10,
   "metadata": {},
   "outputs": [
    {
     "data": {
      "text/plain": [
       "Pre-Tax ROE                                           18.00\n",
       "After Tax ROE                                         15.98\n",
       "Other Operating Activities                            15.83\n",
       "Minority Interest                                     15.77\n",
       "Equity Earnings/Loss Unconsolidated Subsidiary        14.91\n",
       "Accounts Receivable                                   14.46\n",
       "Common Stocks                                         12.15\n",
       "Short-Term Debt / Current Portion of Long-Term Debt   11.88\n",
       "Non-Recurring Items                                   11.80\n",
       "Long-Term Debt                                        11.36\n",
       "Interest Expense                                      11.28\n",
       "Other Liabilities                                     11.07\n",
       "Short-Term Investments                                10.87\n",
       "Cash and Cash Equivalents                             10.11\n",
       "Intangible Assets                                     10.03\n",
       "Add'l income/expense items                             9.98\n",
       "Other Current Liabilities                              9.89\n",
       "Operating Margin                                       9.52\n",
       "Other Current Assets                                   9.46\n",
       "Retained Earnings                                      9.44\n",
       "Long-Term Investments                                  9.25\n",
       "Pre-Tax Margin                                         9.24\n",
       "Total Liabilities                                      9.01\n",
       "Other Assets                                           8.94\n",
       "Deferred Asset Charges                                 8.86\n",
       "Total Assets                                           8.82\n",
       "Total Liabilities & Equity                             8.82\n",
       "Profit Margin                                          8.79\n",
       "Other Operating Items                                  8.78\n",
       "Accounts Payable                                       8.73\n",
       "Misc. Stocks                                           8.56\n",
       "Inventory                                              7.91\n",
       "Income Tax                                             7.41\n",
       "Other Financing Activities                             6.97\n",
       "Fixed Assets                                           6.83\n",
       "Net Cash Flow-Operating                                6.82\n",
       "Deferred Liability Charges                             6.44\n",
       "Cost of Revenue                                        6.25\n",
       "Net Income-Cont. Operations                            6.20\n",
       "Earnings Before Tax                                    6.15\n",
       "Total Revenue                                          6.14\n",
       "Research and Development                               5.93\n",
       "Depreciation                                           5.83\n",
       "Total Equity                                           5.82\n",
       "Sales, General and Admin.                              5.75\n",
       "Net Receivables                                        5.75\n",
       "Operating Income                                       5.66\n",
       "Earnings Before Interest and Tax                       5.66\n",
       "Capital Surplus                                        5.57\n",
       "Net Income Applicable to Common Shareholders           5.53\n",
       "Gross Profit                                           5.17\n",
       "Goodwill                                               5.11\n",
       "Total Current Assets                                   4.90\n",
       "Total Current Liabilities                              4.67\n",
       "Net Cash Flow                                          2.80\n",
       "Liabilities                                            1.35\n",
       "dtype: float64"
      ]
     },
     "execution_count": 10,
     "metadata": {},
     "output_type": "execute_result"
    }
   ],
   "source": [
    "log_columns = data.skew().sort_values(ascending=False)\n",
    "log_columns = log_columns.loc[log_columns > 0.75]\n",
    "\n",
    "log_columns"
   ]
  },
  {
   "cell_type": "code",
   "execution_count": 11,
   "metadata": {},
   "outputs": [
    {
     "name": "stderr",
     "output_type": "stream",
     "text": [
      "C:\\Users\\veres01.CRWIN\\Anaconda3\\lib\\site-packages\\pandas\\core\\series.py:726: RuntimeWarning: invalid value encountered in log1p\n",
      "  result = getattr(ufunc, method)(*inputs, **kwargs)\n"
     ]
    }
   ],
   "source": [
    "# The log transformations\n",
    "for col in log_columns.index:\n",
    "    data[col] = np.log1p(data[col])"
   ]
  },
  {
   "cell_type": "code",
   "execution_count": 12,
   "metadata": {},
   "outputs": [],
   "source": [
    "data.dropna(axis=1,inplace=True)"
   ]
  },
  {
   "cell_type": "code",
   "execution_count": 13,
   "metadata": {},
   "outputs": [
    {
     "data": {
      "text/html": [
       "<div>\n",
       "<style scoped>\n",
       "    .dataframe tbody tr th:only-of-type {\n",
       "        vertical-align: middle;\n",
       "    }\n",
       "\n",
       "    .dataframe tbody tr th {\n",
       "        vertical-align: top;\n",
       "    }\n",
       "\n",
       "    .dataframe thead th {\n",
       "        text-align: right;\n",
       "    }\n",
       "</style>\n",
       "<table border=\"1\" class=\"dataframe\">\n",
       "  <thead>\n",
       "    <tr style=\"text-align: right;\">\n",
       "      <th></th>\n",
       "      <th>Accounts Payable</th>\n",
       "      <th>After Tax ROE</th>\n",
       "      <th>Capital Expenditures</th>\n",
       "      <th>Cash and Cash Equivalents</th>\n",
       "      <th>Changes in Inventories</th>\n",
       "      <th>Common Stocks</th>\n",
       "      <th>Cost of Revenue</th>\n",
       "      <th>Deferred Asset Charges</th>\n",
       "      <th>Deferred Liability Charges</th>\n",
       "      <th>Effect of Exchange Rate</th>\n",
       "      <th>...</th>\n",
       "      <th>Sale and Purchase of Stock</th>\n",
       "      <th>Short-Term Debt / Current Portion of Long-Term Debt</th>\n",
       "      <th>Short-Term Investments</th>\n",
       "      <th>Total Assets</th>\n",
       "      <th>Total Current Assets</th>\n",
       "      <th>Total Current Liabilities</th>\n",
       "      <th>Total Liabilities</th>\n",
       "      <th>Total Liabilities &amp; Equity</th>\n",
       "      <th>Total Revenue</th>\n",
       "      <th>Treasury Stock</th>\n",
       "    </tr>\n",
       "  </thead>\n",
       "  <tbody>\n",
       "    <tr>\n",
       "      <th>0</th>\n",
       "      <td>0.35</td>\n",
       "      <td>0.30</td>\n",
       "      <td>-0.21</td>\n",
       "      <td>0.24</td>\n",
       "      <td>0.17</td>\n",
       "      <td>0.53</td>\n",
       "      <td>0.42</td>\n",
       "      <td>-0.84</td>\n",
       "      <td>0.58</td>\n",
       "      <td>0.24</td>\n",
       "      <td>...</td>\n",
       "      <td>0.28</td>\n",
       "      <td>0.68</td>\n",
       "      <td>1.48</td>\n",
       "      <td>0.26</td>\n",
       "      <td>0.52</td>\n",
       "      <td>0.60</td>\n",
       "      <td>0.61</td>\n",
       "      <td>0.01</td>\n",
       "      <td>0.84</td>\n",
       "      <td>0.25</td>\n",
       "    </tr>\n",
       "    <tr>\n",
       "      <th>1</th>\n",
       "      <td>0.48</td>\n",
       "      <td>1.39</td>\n",
       "      <td>-0.63</td>\n",
       "      <td>0.51</td>\n",
       "      <td>0.17</td>\n",
       "      <td>-0.11</td>\n",
       "      <td>0.43</td>\n",
       "      <td>-0.84</td>\n",
       "      <td>0.73</td>\n",
       "      <td>0.24</td>\n",
       "      <td>...</td>\n",
       "      <td>0.28</td>\n",
       "      <td>0.68</td>\n",
       "      <td>1.57</td>\n",
       "      <td>0.70</td>\n",
       "      <td>0.60</td>\n",
       "      <td>0.65</td>\n",
       "      <td>1.00</td>\n",
       "      <td>0.70</td>\n",
       "      <td>0.90</td>\n",
       "      <td>0.28</td>\n",
       "    </tr>\n",
       "    <tr>\n",
       "      <th>2</th>\n",
       "      <td>0.47</td>\n",
       "      <td>2.17</td>\n",
       "      <td>-1.36</td>\n",
       "      <td>0.40</td>\n",
       "      <td>0.17</td>\n",
       "      <td>-0.04</td>\n",
       "      <td>0.49</td>\n",
       "      <td>-0.84</td>\n",
       "      <td>0.71</td>\n",
       "      <td>0.24</td>\n",
       "      <td>...</td>\n",
       "      <td>-0.10</td>\n",
       "      <td>0.70</td>\n",
       "      <td>1.54</td>\n",
       "      <td>0.71</td>\n",
       "      <td>0.58</td>\n",
       "      <td>0.65</td>\n",
       "      <td>0.94</td>\n",
       "      <td>0.71</td>\n",
       "      <td>1.28</td>\n",
       "      <td>0.28</td>\n",
       "    </tr>\n",
       "    <tr>\n",
       "      <th>3</th>\n",
       "      <td>0.49</td>\n",
       "      <td>2.11</td>\n",
       "      <td>-1.64</td>\n",
       "      <td>0.13</td>\n",
       "      <td>0.17</td>\n",
       "      <td>-0.07</td>\n",
       "      <td>0.43</td>\n",
       "      <td>1.41</td>\n",
       "      <td>0.69</td>\n",
       "      <td>0.24</td>\n",
       "      <td>...</td>\n",
       "      <td>-1.12</td>\n",
       "      <td>0.74</td>\n",
       "      <td>1.54</td>\n",
       "      <td>0.80</td>\n",
       "      <td>0.56</td>\n",
       "      <td>0.65</td>\n",
       "      <td>0.97</td>\n",
       "      <td>0.80</td>\n",
       "      <td>1.25</td>\n",
       "      <td>0.28</td>\n",
       "    </tr>\n",
       "  </tbody>\n",
       "</table>\n",
       "<p>4 rows × 46 columns</p>\n",
       "</div>"
      ],
      "text/plain": [
       "   Accounts Payable  After Tax ROE  Capital Expenditures  \\\n",
       "0              0.35           0.30                 -0.21   \n",
       "1              0.48           1.39                 -0.63   \n",
       "2              0.47           2.17                 -1.36   \n",
       "3              0.49           2.11                 -1.64   \n",
       "\n",
       "   Cash and Cash Equivalents  Changes in Inventories  Common Stocks  \\\n",
       "0                       0.24                    0.17           0.53   \n",
       "1                       0.51                    0.17          -0.11   \n",
       "2                       0.40                    0.17          -0.04   \n",
       "3                       0.13                    0.17          -0.07   \n",
       "\n",
       "   Cost of Revenue  Deferred Asset Charges  Deferred Liability Charges  \\\n",
       "0             0.42                   -0.84                        0.58   \n",
       "1             0.43                   -0.84                        0.73   \n",
       "2             0.49                   -0.84                        0.71   \n",
       "3             0.43                    1.41                        0.69   \n",
       "\n",
       "   Effect of Exchange Rate  ...  Sale and Purchase of Stock  \\\n",
       "0                     0.24  ...                        0.28   \n",
       "1                     0.24  ...                        0.28   \n",
       "2                     0.24  ...                       -0.10   \n",
       "3                     0.24  ...                       -1.12   \n",
       "\n",
       "   Short-Term Debt / Current Portion of Long-Term Debt  \\\n",
       "0                                               0.68     \n",
       "1                                               0.68     \n",
       "2                                               0.70     \n",
       "3                                               0.74     \n",
       "\n",
       "   Short-Term Investments  Total Assets  Total Current Assets  \\\n",
       "0                    1.48          0.26                  0.52   \n",
       "1                    1.57          0.70                  0.60   \n",
       "2                    1.54          0.71                  0.58   \n",
       "3                    1.54          0.80                  0.56   \n",
       "\n",
       "   Total Current Liabilities  Total Liabilities  Total Liabilities & Equity  \\\n",
       "0                       0.60               0.61                        0.01   \n",
       "1                       0.65               1.00                        0.70   \n",
       "2                       0.65               0.94                        0.71   \n",
       "3                       0.65               0.97                        0.80   \n",
       "\n",
       "   Total Revenue  Treasury Stock  \n",
       "0           0.84            0.25  \n",
       "1           0.90            0.28  \n",
       "2           1.28            0.28  \n",
       "3           1.25            0.28  \n",
       "\n",
       "[4 rows x 46 columns]"
      ]
     },
     "execution_count": 13,
     "metadata": {},
     "output_type": "execute_result"
    }
   ],
   "source": [
    "sc = StandardScaler()\n",
    "feature_columns = [x for x in data.columns if x not in 'Net Income']\n",
    "for col in feature_columns:\n",
    "    data[col] = sc.fit_transform(data[[col]])\n",
    "\n",
    "data.head(4)"
   ]
  },
  {
   "cell_type": "markdown",
   "metadata": {},
   "source": [
    "# Train models\n",
    "\n",
    "- Fit a **K-means clustering** model with two clusters and \n",
    "- Fit 2 **Agglomerative clustering** models with two clusters (ward-link and complete-link clustering)\n",
    "- Compare the results to those obtained by K-means with regards to Net Income by reporting the number of observations in each cluster for both K-means and agglomerative clustering.\n",
    "- Visualize the **dendrogram** produced by agglomerative clustering\n",
    "\n",
    "## K-means"
   ]
  },
  {
   "cell_type": "code",
   "execution_count": 14,
   "metadata": {},
   "outputs": [
    {
     "data": {
      "text/html": [
       "<div>\n",
       "<style scoped>\n",
       "    .dataframe tbody tr th:only-of-type {\n",
       "        vertical-align: middle;\n",
       "    }\n",
       "\n",
       "    .dataframe tbody tr th {\n",
       "        vertical-align: top;\n",
       "    }\n",
       "\n",
       "    .dataframe thead th {\n",
       "        text-align: right;\n",
       "    }\n",
       "</style>\n",
       "<table border=\"1\" class=\"dataframe\">\n",
       "  <thead>\n",
       "    <tr style=\"text-align: right;\">\n",
       "      <th></th>\n",
       "      <th></th>\n",
       "      <th>number</th>\n",
       "    </tr>\n",
       "    <tr>\n",
       "      <th>kmeans</th>\n",
       "      <th>Net Income</th>\n",
       "      <th></th>\n",
       "    </tr>\n",
       "  </thead>\n",
       "  <tbody>\n",
       "    <tr>\n",
       "      <th rowspan=\"2\" valign=\"top\">0</th>\n",
       "      <th>0</th>\n",
       "      <td>8</td>\n",
       "    </tr>\n",
       "    <tr>\n",
       "      <th>1</th>\n",
       "      <td>295</td>\n",
       "    </tr>\n",
       "    <tr>\n",
       "      <th rowspan=\"2\" valign=\"top\">1</th>\n",
       "      <th>0</th>\n",
       "      <td>94</td>\n",
       "    </tr>\n",
       "    <tr>\n",
       "      <th>1</th>\n",
       "      <td>1384</td>\n",
       "    </tr>\n",
       "  </tbody>\n",
       "</table>\n",
       "</div>"
      ],
      "text/plain": [
       "                   number\n",
       "kmeans Net Income        \n",
       "0      0                8\n",
       "       1              295\n",
       "1      0               94\n",
       "       1             1384"
      ]
     },
     "execution_count": 14,
     "metadata": {},
     "output_type": "execute_result"
    }
   ],
   "source": [
    "km = KMeans(n_clusters=2, random_state=42)\n",
    "km = km.fit(data[feature_columns])\n",
    "\n",
    "data['kmeans'] = km.predict(data[feature_columns])\n",
    "(data[['Net Income','kmeans']]\n",
    " .groupby(['kmeans','Net Income'])\n",
    " .size()\n",
    " .to_frame()\n",
    " .rename(columns={0:'number'}))"
   ]
  },
  {
   "cell_type": "markdown",
   "metadata": {},
   "source": [
    "## Agglomerative Clustering"
   ]
  },
  {
   "cell_type": "code",
   "execution_count": 15,
   "metadata": {},
   "outputs": [],
   "source": [
    "for linkage in ['complete', 'ward']:\n",
    "    ag = AgglomerativeClustering(n_clusters=2, linkage=linkage, compute_full_tree=True)\n",
    "    ag = ag.fit(data[feature_columns])\n",
    "    data[str('agglom_'+linkage)] = ag.fit_predict(data[feature_columns])"
   ]
  },
  {
   "cell_type": "code",
   "execution_count": 16,
   "metadata": {},
   "outputs": [
    {
     "data": {
      "text/html": [
       "<div>\n",
       "<style scoped>\n",
       "    .dataframe tbody tr th:only-of-type {\n",
       "        vertical-align: middle;\n",
       "    }\n",
       "\n",
       "    .dataframe tbody tr th {\n",
       "        vertical-align: top;\n",
       "    }\n",
       "\n",
       "    .dataframe thead th {\n",
       "        text-align: right;\n",
       "    }\n",
       "</style>\n",
       "<table border=\"1\" class=\"dataframe\">\n",
       "  <thead>\n",
       "    <tr style=\"text-align: right;\">\n",
       "      <th></th>\n",
       "      <th></th>\n",
       "      <th>number</th>\n",
       "    </tr>\n",
       "    <tr>\n",
       "      <th>Net Income</th>\n",
       "      <th>agglom_ward</th>\n",
       "      <th></th>\n",
       "    </tr>\n",
       "  </thead>\n",
       "  <tbody>\n",
       "    <tr>\n",
       "      <th rowspan=\"2\" valign=\"top\">0</th>\n",
       "      <th>0</th>\n",
       "      <td>13</td>\n",
       "    </tr>\n",
       "    <tr>\n",
       "      <th>1</th>\n",
       "      <td>89</td>\n",
       "    </tr>\n",
       "    <tr>\n",
       "      <th rowspan=\"2\" valign=\"top\">1</th>\n",
       "      <th>0</th>\n",
       "      <td>323</td>\n",
       "    </tr>\n",
       "    <tr>\n",
       "      <th>1</th>\n",
       "      <td>1356</td>\n",
       "    </tr>\n",
       "  </tbody>\n",
       "</table>\n",
       "</div>"
      ],
      "text/plain": [
       "                        number\n",
       "Net Income agglom_ward        \n",
       "0          0                13\n",
       "           1                89\n",
       "1          0               323\n",
       "           1              1356"
      ]
     },
     "execution_count": 16,
     "metadata": {},
     "output_type": "execute_result"
    }
   ],
   "source": [
    "(data[['Net Income','agglom_ward']]\n",
    " .groupby(['Net Income','agglom_ward'])\n",
    " .size()\n",
    " .to_frame()\n",
    " .rename(columns={0:'number'}))"
   ]
  },
  {
   "cell_type": "code",
   "execution_count": 17,
   "metadata": {},
   "outputs": [
    {
     "data": {
      "text/html": [
       "<div>\n",
       "<style scoped>\n",
       "    .dataframe tbody tr th:only-of-type {\n",
       "        vertical-align: middle;\n",
       "    }\n",
       "\n",
       "    .dataframe tbody tr th {\n",
       "        vertical-align: top;\n",
       "    }\n",
       "\n",
       "    .dataframe thead th {\n",
       "        text-align: right;\n",
       "    }\n",
       "</style>\n",
       "<table border=\"1\" class=\"dataframe\">\n",
       "  <thead>\n",
       "    <tr style=\"text-align: right;\">\n",
       "      <th></th>\n",
       "      <th></th>\n",
       "      <th>number</th>\n",
       "    </tr>\n",
       "    <tr>\n",
       "      <th>Net Income</th>\n",
       "      <th>agglom_complete</th>\n",
       "      <th></th>\n",
       "    </tr>\n",
       "  </thead>\n",
       "  <tbody>\n",
       "    <tr>\n",
       "      <th>0</th>\n",
       "      <th>0</th>\n",
       "      <td>102</td>\n",
       "    </tr>\n",
       "    <tr>\n",
       "      <th rowspan=\"2\" valign=\"top\">1</th>\n",
       "      <th>0</th>\n",
       "      <td>1671</td>\n",
       "    </tr>\n",
       "    <tr>\n",
       "      <th>1</th>\n",
       "      <td>8</td>\n",
       "    </tr>\n",
       "  </tbody>\n",
       "</table>\n",
       "</div>"
      ],
      "text/plain": [
       "                            number\n",
       "Net Income agglom_complete        \n",
       "0          0                   102\n",
       "1          0                  1671\n",
       "           1                     8"
      ]
     },
     "execution_count": 17,
     "metadata": {},
     "output_type": "execute_result"
    }
   ],
   "source": [
    "(data[['Net Income','agglom_complete']]\n",
    "     .groupby(['Net Income','agglom_complete'])\n",
    "     .size()\n",
    "     .to_frame()\n",
    "     .rename(columns={0:'number'}))"
   ]
  },
  {
   "cell_type": "code",
   "execution_count": 18,
   "metadata": {},
   "outputs": [
    {
     "data": {
      "text/html": [
       "<div>\n",
       "<style scoped>\n",
       "    .dataframe tbody tr th:only-of-type {\n",
       "        vertical-align: middle;\n",
       "    }\n",
       "\n",
       "    .dataframe tbody tr th {\n",
       "        vertical-align: top;\n",
       "    }\n",
       "\n",
       "    .dataframe thead th {\n",
       "        text-align: right;\n",
       "    }\n",
       "</style>\n",
       "<table border=\"1\" class=\"dataframe\">\n",
       "  <thead>\n",
       "    <tr style=\"text-align: right;\">\n",
       "      <th></th>\n",
       "      <th></th>\n",
       "      <th></th>\n",
       "      <th></th>\n",
       "      <th>number</th>\n",
       "    </tr>\n",
       "    <tr>\n",
       "      <th>Net Income</th>\n",
       "      <th>agglom_complete</th>\n",
       "      <th>agglom_ward</th>\n",
       "      <th>kmeans</th>\n",
       "      <th></th>\n",
       "    </tr>\n",
       "  </thead>\n",
       "  <tbody>\n",
       "    <tr>\n",
       "      <th rowspan=\"3\" valign=\"top\">0</th>\n",
       "      <th rowspan=\"3\" valign=\"top\">0</th>\n",
       "      <th rowspan=\"2\" valign=\"top\">0</th>\n",
       "      <th>0</th>\n",
       "      <td>8</td>\n",
       "    </tr>\n",
       "    <tr>\n",
       "      <th>1</th>\n",
       "      <td>5</td>\n",
       "    </tr>\n",
       "    <tr>\n",
       "      <th>1</th>\n",
       "      <th>1</th>\n",
       "      <td>89</td>\n",
       "    </tr>\n",
       "    <tr>\n",
       "      <th rowspan=\"4\" valign=\"top\">1</th>\n",
       "      <th rowspan=\"3\" valign=\"top\">0</th>\n",
       "      <th rowspan=\"2\" valign=\"top\">0</th>\n",
       "      <th>0</th>\n",
       "      <td>287</td>\n",
       "    </tr>\n",
       "    <tr>\n",
       "      <th>1</th>\n",
       "      <td>28</td>\n",
       "    </tr>\n",
       "    <tr>\n",
       "      <th>1</th>\n",
       "      <th>1</th>\n",
       "      <td>1356</td>\n",
       "    </tr>\n",
       "    <tr>\n",
       "      <th>1</th>\n",
       "      <th>0</th>\n",
       "      <th>0</th>\n",
       "      <td>8</td>\n",
       "    </tr>\n",
       "  </tbody>\n",
       "</table>\n",
       "</div>"
      ],
      "text/plain": [
       "                                               number\n",
       "Net Income agglom_complete agglom_ward kmeans        \n",
       "0          0               0           0            8\n",
       "                                       1            5\n",
       "                           1           1           89\n",
       "1          0               0           0          287\n",
       "                                       1           28\n",
       "                           1           1         1356\n",
       "           1               0           0            8"
      ]
     },
     "execution_count": 18,
     "metadata": {},
     "output_type": "execute_result"
    }
   ],
   "source": [
    "# Comparing AgglomerativeClustering with KMeans\n",
    "(data[['Net Income','agglom_complete', 'agglom_ward','kmeans']]\n",
    " .groupby(['Net Income', 'agglom_complete', 'agglom_ward', 'kmeans'])\n",
    " .size()\n",
    " .to_frame()\n",
    " .rename(columns={0:'number'}))"
   ]
  },
  {
   "cell_type": "code",
   "execution_count": 19,
   "metadata": {},
   "outputs": [
    {
     "data": {
      "image/png": "[encoded data removed]",
      "text/plain": [
       "<Figure size 1080x360 with 1 Axes>"
      ]
     },
     "metadata": {
      "needs_background": "light"
     },
     "output_type": "display_data"
    }
   ],
   "source": [
    "Z = hierarchy.linkage(ag.children_, method='ward')\n",
    "\n",
    "fig, ax = plt.subplots(figsize=(15,5))\n",
    "\n",
    "\n",
    "hierarchy.set_link_color_palette(['purple', 'orange'])\n",
    "\n",
    "den = hierarchy.dendrogram(Z, orientation='top', \n",
    "                           p=30, truncate_mode='lastp',\n",
    "                           show_leaf_counts=True, ax=ax,\n",
    "                           above_threshold_color='cyan')"
   ]
  },
  {
   "cell_type": "markdown",
   "metadata": {},
   "source": [
    "# Results\n",
    "Comparing the results shows that I am able to predict profit better than loss which is what I expected. Given that we have more data for companies with profit(1: 1679 vs 0: 102). The best algorithm for predicting loss is the **Complete-link Agglomerative Clustering** model and for predicting profit **KMeans Clustering** seems to be the best candidate althought **Ward-link Agglomerative Clustering** achieved nearly the same result. With a more robust data set of losses, the predictive modeling results might be very different.\n",
    "\n",
    "Better result could be achieved by performing a principle component analysis for the exploratory data anaylysis phase . PCA would represent a multivariate data table as smaller set of variables (summary indices) in order to observe trends, jumps, clusters and outliers. This overview may uncover the relationships between observations and variables, and among the variables. "
   ]
  }
 ],
 "metadata": {
  "kernelspec": {
   "display_name": "Python 3 (ipykernel)",
   "language": "python",
   "name": "python3"
  },
  "language_info": {
   "codemirror_mode": {
    "name": "ipython",
    "version": 3
   },
   "file_extension": ".py",
   "mimetype": "text/x-python",
   "name": "python",
   "nbconvert_exporter": "python",
   "pygments_lexer": "ipython3",
   "version": "3.9.7"
  }
 },
 "nbformat": 4,
 "nbformat_minor": 4
}
